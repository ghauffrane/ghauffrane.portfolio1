{
 "cells": [
  {
   "cell_type": "raw",
   "metadata": {},
   "source": [
    "On May 20, Transtu took the following measures: (we take into consideration that the capacity of a standard bus is 80 to 90)\n",
    "The new transportation order will be as following:\n",
    "\t*40 people by regular bus.\n",
    "\t*65 people double.\n",
    "\t*120 people per wagon (metros and TGM), or 240 people for a single service.\n",
    "    \n",
    "We focus the generation of the fake data on bus passenger flow information\n",
    "Choice of the attributes: \n",
    "Tha aim of the project is to be able to predict passengers number at a certain bus station at in real time. So a real dataset would be a panel of time series and bus stations\n",
    "Bus station locations are discarded from this primary modelling because it could be misleading to make fake hypothesis on which station is more crowded at certain hours of the day. Common sense implies that the major big bus stations are equally crowded at rush hours. Exploration of real data could tell if this equality holds or not.\n",
    "\n",
    "So the features generated are: \n",
    "    1 Hour: at exactly a certain hour during a day, an observation gives the number of passengers in a bus station. This variable is entered as an integer to facilitate the code but it is not to be considered a numeric attribute in the model\n",
    "    2 Number of passengers is an integer telling how many people are waiting for bus arrival in a bus station\n",
    "    3 Weekday_yes is a binary variable that tells if the day is a weekend or not. Including this feature might help in the prediction, because passenger flow is supposed to depend on which day it is.For better accuracy in real data use, Saturday should be considered a weekday because many workers do work on Saturday and so do the majority of students.\n",
    "    \n",
    "Prediction based on hours and with the exclusion of bus station locations could help Transtu schedule the right number of buses in each line depending on passenger flow at a certain time.\n",
    "Transtu schedules on average a bus every 30 mins and a metro every 10 to 15 mins. So this analysis could be used for more efficient scheduling.\n",
    "\n",
    "How does this project help limit the spread of coronavirus?\n",
    "The issue in Tunisia and especially in the capital Tunisia is that people do not have many choices even if they have the information about real time track of buses and passenger flow, because simply people have to go to work. So even if a person A know exactly where the bus is at instant t1 and when it will reach the station, plus how many people are already waiting in the station, this person A will not avoid going to the bus station, waiting for the bus like everyone and taking the same vehicle even if it is overly crowded, because this person A has to be at work at a certain exact time. This scenario explains how the absence of passenger flow and efficient scheduling of buses could contribute to the spread of the virus, because it will end up in overly crowded buses and high risk for transmitting the virus for everyone in the vehicle. Ensuring better allocation of buses depending on predicted passenger flow to each bus station limits the chances of overwhelming bus capacities. Using such an optimization to bus scheduling would make the new measures declared by Transtu more easily achievable and realistic. "
   ]
  },
  {
   "cell_type": "markdown",
   "metadata": {},
   "source": [
    "# Generating a fake dataset"
   ]
  },
  {
   "cell_type": "code",
   "execution_count": 91,
   "metadata": {},
   "outputs": [],
   "source": [
    "import pandas as pd\n",
    "import random\n",
    "Hour = []\n",
    "nb_passengers = []\n",
    "weekday_yes = []\n",
    "var = 0\n",
    "while var<100:  \n",
    "    for j in range(15): \n",
    "        weekday_yes.append(1)\n",
    "        Hour.append(j+6)\n",
    "        if (j+6) in [7,8,17,18,19,20]: \n",
    "            nb_passengers.append(random.randint(100,200))\n",
    "        else: \n",
    "            nb_passengers.append(random.randint(50,100))\n",
    "    var += 1\n",
    "\n",
    "\n",
    "var = 0\n",
    "while var<100:  \n",
    "    for j in range(15): \n",
    "        weekday_yes.append(0)\n",
    "        Hour.append(j+6)\n",
    "        if (j+6) in [7,8,17,18,19,20]: \n",
    "            nb_passengers.append(round(random.randint(100,200)/2))\n",
    "        else: \n",
    "            nb_passengers.append(round(random.randint(50,100)/2))\n",
    "    var += 1\n",
    "\n",
    "df = list(zip(Hour,nb_passengers,weekday_yes))\n",
    "data = pd.DataFrame(df, columns=[\"Hour\", \"nb_passengers\", \"weekday_yes\"])\n"
   ]
  },
  {
   "cell_type": "code",
   "execution_count": 101,
   "metadata": {},
   "outputs": [
    {
     "data": {
      "text/plain": [
       "(3000, 3)"
      ]
     },
     "execution_count": 101,
     "metadata": {},
     "output_type": "execute_result"
    }
   ],
   "source": [
    "data.shape"
   ]
  },
  {
   "cell_type": "code",
   "execution_count": 102,
   "metadata": {},
   "outputs": [
    {
     "data": {
      "text/html": [
       "<div>\n",
       "<style scoped>\n",
       "    .dataframe tbody tr th:only-of-type {\n",
       "        vertical-align: middle;\n",
       "    }\n",
       "\n",
       "    .dataframe tbody tr th {\n",
       "        vertical-align: top;\n",
       "    }\n",
       "\n",
       "    .dataframe thead th {\n",
       "        text-align: right;\n",
       "    }\n",
       "</style>\n",
       "<table border=\"1\" class=\"dataframe\">\n",
       "  <thead>\n",
       "    <tr style=\"text-align: right;\">\n",
       "      <th></th>\n",
       "      <th>Hour</th>\n",
       "      <th>nb_passengers</th>\n",
       "      <th>weekday_yes</th>\n",
       "    </tr>\n",
       "  </thead>\n",
       "  <tbody>\n",
       "    <tr>\n",
       "      <td>2985</td>\n",
       "      <td>6</td>\n",
       "      <td>38</td>\n",
       "      <td>0</td>\n",
       "    </tr>\n",
       "    <tr>\n",
       "      <td>2986</td>\n",
       "      <td>7</td>\n",
       "      <td>92</td>\n",
       "      <td>0</td>\n",
       "    </tr>\n",
       "    <tr>\n",
       "      <td>2987</td>\n",
       "      <td>8</td>\n",
       "      <td>85</td>\n",
       "      <td>0</td>\n",
       "    </tr>\n",
       "    <tr>\n",
       "      <td>2988</td>\n",
       "      <td>9</td>\n",
       "      <td>49</td>\n",
       "      <td>0</td>\n",
       "    </tr>\n",
       "    <tr>\n",
       "      <td>2989</td>\n",
       "      <td>10</td>\n",
       "      <td>32</td>\n",
       "      <td>0</td>\n",
       "    </tr>\n",
       "    <tr>\n",
       "      <td>2990</td>\n",
       "      <td>11</td>\n",
       "      <td>44</td>\n",
       "      <td>0</td>\n",
       "    </tr>\n",
       "    <tr>\n",
       "      <td>2991</td>\n",
       "      <td>12</td>\n",
       "      <td>42</td>\n",
       "      <td>0</td>\n",
       "    </tr>\n",
       "    <tr>\n",
       "      <td>2992</td>\n",
       "      <td>13</td>\n",
       "      <td>37</td>\n",
       "      <td>0</td>\n",
       "    </tr>\n",
       "    <tr>\n",
       "      <td>2993</td>\n",
       "      <td>14</td>\n",
       "      <td>32</td>\n",
       "      <td>0</td>\n",
       "    </tr>\n",
       "    <tr>\n",
       "      <td>2994</td>\n",
       "      <td>15</td>\n",
       "      <td>50</td>\n",
       "      <td>0</td>\n",
       "    </tr>\n",
       "    <tr>\n",
       "      <td>2995</td>\n",
       "      <td>16</td>\n",
       "      <td>33</td>\n",
       "      <td>0</td>\n",
       "    </tr>\n",
       "    <tr>\n",
       "      <td>2996</td>\n",
       "      <td>17</td>\n",
       "      <td>66</td>\n",
       "      <td>0</td>\n",
       "    </tr>\n",
       "    <tr>\n",
       "      <td>2997</td>\n",
       "      <td>18</td>\n",
       "      <td>78</td>\n",
       "      <td>0</td>\n",
       "    </tr>\n",
       "    <tr>\n",
       "      <td>2998</td>\n",
       "      <td>19</td>\n",
       "      <td>88</td>\n",
       "      <td>0</td>\n",
       "    </tr>\n",
       "    <tr>\n",
       "      <td>2999</td>\n",
       "      <td>20</td>\n",
       "      <td>96</td>\n",
       "      <td>0</td>\n",
       "    </tr>\n",
       "  </tbody>\n",
       "</table>\n",
       "</div>"
      ],
      "text/plain": [
       "      Hour  nb_passengers  weekday_yes\n",
       "2985     6             38            0\n",
       "2986     7             92            0\n",
       "2987     8             85            0\n",
       "2988     9             49            0\n",
       "2989    10             32            0\n",
       "2990    11             44            0\n",
       "2991    12             42            0\n",
       "2992    13             37            0\n",
       "2993    14             32            0\n",
       "2994    15             50            0\n",
       "2995    16             33            0\n",
       "2996    17             66            0\n",
       "2997    18             78            0\n",
       "2998    19             88            0\n",
       "2999    20             96            0"
      ]
     },
     "execution_count": 102,
     "metadata": {},
     "output_type": "execute_result"
    }
   ],
   "source": [
    "data.tail(15)"
   ]
  },
  {
   "cell_type": "markdown",
   "metadata": {},
   "source": [
    "## Randomly mixing the dataset rows and writing it to a csv file "
   ]
  },
  {
   "cell_type": "code",
   "execution_count": null,
   "metadata": {},
   "outputs": [],
   "source": [
    "from sklearn.utils import shuffle\n",
    "import random\n",
    "random.seed(40)\n",
    "data=shuffle(data)"
   ]
  },
  {
   "cell_type": "code",
   "execution_count": 111,
   "metadata": {},
   "outputs": [],
   "source": [
    "data.to_csv('fakedata_bus.csv', header=True)"
   ]
  },
  {
   "cell_type": "code",
   "execution_count": 110,
   "metadata": {},
   "outputs": [
    {
     "data": {
      "text/html": [
       "<div>\n",
       "<style scoped>\n",
       "    .dataframe tbody tr th:only-of-type {\n",
       "        vertical-align: middle;\n",
       "    }\n",
       "\n",
       "    .dataframe tbody tr th {\n",
       "        vertical-align: top;\n",
       "    }\n",
       "\n",
       "    .dataframe thead th {\n",
       "        text-align: right;\n",
       "    }\n",
       "</style>\n",
       "<table border=\"1\" class=\"dataframe\">\n",
       "  <thead>\n",
       "    <tr style=\"text-align: right;\">\n",
       "      <th></th>\n",
       "      <th>Hour</th>\n",
       "      <th>nb_passengers</th>\n",
       "      <th>weekday_yes</th>\n",
       "    </tr>\n",
       "  </thead>\n",
       "  <tbody>\n",
       "    <tr>\n",
       "      <td>2747</td>\n",
       "      <td>8</td>\n",
       "      <td>98</td>\n",
       "      <td>0</td>\n",
       "    </tr>\n",
       "    <tr>\n",
       "      <td>1118</td>\n",
       "      <td>14</td>\n",
       "      <td>94</td>\n",
       "      <td>1</td>\n",
       "    </tr>\n",
       "    <tr>\n",
       "      <td>2687</td>\n",
       "      <td>8</td>\n",
       "      <td>92</td>\n",
       "      <td>0</td>\n",
       "    </tr>\n",
       "    <tr>\n",
       "      <td>1653</td>\n",
       "      <td>9</td>\n",
       "      <td>26</td>\n",
       "      <td>0</td>\n",
       "    </tr>\n",
       "    <tr>\n",
       "      <td>1062</td>\n",
       "      <td>18</td>\n",
       "      <td>142</td>\n",
       "      <td>1</td>\n",
       "    </tr>\n",
       "    <tr>\n",
       "      <td>1851</td>\n",
       "      <td>12</td>\n",
       "      <td>36</td>\n",
       "      <td>0</td>\n",
       "    </tr>\n",
       "    <tr>\n",
       "      <td>2252</td>\n",
       "      <td>8</td>\n",
       "      <td>70</td>\n",
       "      <td>0</td>\n",
       "    </tr>\n",
       "    <tr>\n",
       "      <td>2505</td>\n",
       "      <td>6</td>\n",
       "      <td>25</td>\n",
       "      <td>0</td>\n",
       "    </tr>\n",
       "    <tr>\n",
       "      <td>222</td>\n",
       "      <td>18</td>\n",
       "      <td>199</td>\n",
       "      <td>1</td>\n",
       "    </tr>\n",
       "    <tr>\n",
       "      <td>2498</td>\n",
       "      <td>14</td>\n",
       "      <td>44</td>\n",
       "      <td>0</td>\n",
       "    </tr>\n",
       "    <tr>\n",
       "      <td>874</td>\n",
       "      <td>10</td>\n",
       "      <td>86</td>\n",
       "      <td>1</td>\n",
       "    </tr>\n",
       "    <tr>\n",
       "      <td>283</td>\n",
       "      <td>19</td>\n",
       "      <td>189</td>\n",
       "      <td>1</td>\n",
       "    </tr>\n",
       "    <tr>\n",
       "      <td>1791</td>\n",
       "      <td>12</td>\n",
       "      <td>40</td>\n",
       "      <td>0</td>\n",
       "    </tr>\n",
       "    <tr>\n",
       "      <td>2661</td>\n",
       "      <td>12</td>\n",
       "      <td>49</td>\n",
       "      <td>0</td>\n",
       "    </tr>\n",
       "    <tr>\n",
       "      <td>1238</td>\n",
       "      <td>14</td>\n",
       "      <td>89</td>\n",
       "      <td>1</td>\n",
       "    </tr>\n",
       "    <tr>\n",
       "      <td>980</td>\n",
       "      <td>11</td>\n",
       "      <td>95</td>\n",
       "      <td>1</td>\n",
       "    </tr>\n",
       "    <tr>\n",
       "      <td>2686</td>\n",
       "      <td>7</td>\n",
       "      <td>81</td>\n",
       "      <td>0</td>\n",
       "    </tr>\n",
       "    <tr>\n",
       "      <td>505</td>\n",
       "      <td>16</td>\n",
       "      <td>84</td>\n",
       "      <td>1</td>\n",
       "    </tr>\n",
       "    <tr>\n",
       "      <td>1887</td>\n",
       "      <td>18</td>\n",
       "      <td>90</td>\n",
       "      <td>0</td>\n",
       "    </tr>\n",
       "    <tr>\n",
       "      <td>929</td>\n",
       "      <td>20</td>\n",
       "      <td>187</td>\n",
       "      <td>1</td>\n",
       "    </tr>\n",
       "  </tbody>\n",
       "</table>\n",
       "</div>"
      ],
      "text/plain": [
       "      Hour  nb_passengers  weekday_yes\n",
       "2747     8             98            0\n",
       "1118    14             94            1\n",
       "2687     8             92            0\n",
       "1653     9             26            0\n",
       "1062    18            142            1\n",
       "1851    12             36            0\n",
       "2252     8             70            0\n",
       "2505     6             25            0\n",
       "222     18            199            1\n",
       "2498    14             44            0\n",
       "874     10             86            1\n",
       "283     19            189            1\n",
       "1791    12             40            0\n",
       "2661    12             49            0\n",
       "1238    14             89            1\n",
       "980     11             95            1\n",
       "2686     7             81            0\n",
       "505     16             84            1\n",
       "1887    18             90            0\n",
       "929     20            187            1"
      ]
     },
     "execution_count": 110,
     "metadata": {},
     "output_type": "execute_result"
    }
   ],
   "source": [
    "data.head(20)"
   ]
  },
  {
   "cell_type": "code",
   "execution_count": 135,
   "metadata": {},
   "outputs": [
    {
     "data": {
      "image/png": "[encoded data removed]",
      "text/plain": [
       "<Figure size 432x288 with 1 Axes>"
      ]
     },
     "metadata": {
      "needs_background": "light"
     },
     "output_type": "display_data"
    }
   ],
   "source": [
    "import matplotlib.pyplot as plt\n",
    "import seaborn as sns\n",
    "%matplotlib inline\n",
    "x = data.iloc[:,0]\n",
    "y = data.iloc[:,1]\n",
    "plt.scatter(x, y)\n",
    "plt.xlabel('hours')\n",
    "plt.ylabel('passengers');"
   ]
  },
  {
   "cell_type": "markdown",
   "metadata": {},
   "source": [
    "## Modeling the data"
   ]
  },
  {
   "cell_type": "code",
   "execution_count": 158,
   "metadata": {},
   "outputs": [],
   "source": [
    "X = data.drop(\"nb_passengers\", axis=1)\n",
    "Y = data[\"nb_passengers\"]\n",
    "from sklearn.model_selection import train_test_split\n",
    "X_train, X_test, Y_train, Y_test=train_test_split(X,Y, test_size=0.3)"
   ]
  },
  {
   "cell_type": "code",
   "execution_count": 159,
   "metadata": {},
   "outputs": [],
   "source": [
    "from sklearn import linear_model\n",
    "regr = linear_model.LinearRegression()\n",
    "regr.fit(X_train, Y_train)\n",
    "pred = regr.predict(X_test)"
   ]
  },
  {
   "cell_type": "code",
   "execution_count": 160,
   "metadata": {},
   "outputs": [
    {
     "data": {
      "text/plain": [
       "23.420904307245856"
      ]
     },
     "execution_count": 160,
     "metadata": {},
     "output_type": "execute_result"
    }
   ],
   "source": [
    "regr.intercept_"
   ]
  },
  {
   "cell_type": "code",
   "execution_count": 161,
   "metadata": {},
   "outputs": [
    {
     "data": {
      "text/plain": [
       "array([ 2.21610876, 53.3812411 ])"
      ]
     },
     "execution_count": 161,
     "metadata": {},
     "output_type": "execute_result"
    }
   ],
   "source": [
    "regr.coef_"
   ]
  },
  {
   "cell_type": "code",
   "execution_count": 168,
   "metadata": {},
   "outputs": [
    {
     "data": {
      "text/plain": [
       "array([1.9538271])"
      ]
     },
     "execution_count": 168,
     "metadata": {},
     "output_type": "execute_result"
    }
   ],
   "source": [
    "X = data.drop([\"nb_passengers\", \"weekday_yes\"], axis=1)\n",
    "Y = data[\"nb_passengers\"]\n",
    "X_train, X_test, Y_train, Y_test=train_test_split(X,Y, test_size=0.3)\n",
    "from sklearn.linear_model import LinearRegression\n",
    "reg = LinearRegression().fit(X_train, Y_train)\n",
    "predd = reg.predict(X_train)\n",
    "reg.coef_"
   ]
  },
  {
   "cell_type": "code",
   "execution_count": null,
   "metadata": {},
   "outputs": [],
   "source": []
  }
 ],
 "metadata": {
  "kernelspec": {
   "display_name": "Python 3",
   "language": "python",
   "name": "python3"
  },
  "language_info": {
   "codemirror_mode": {
    "name": "ipython",
    "version": 3
   },
   "file_extension": ".py",
   "mimetype": "text/x-python",
   "name": "python",
   "nbconvert_exporter": "python",
   "pygments_lexer": "ipython3",
   "version": "3.7.4"
  }
 },
 "nbformat": 4,
 "nbformat_minor": 2
}
